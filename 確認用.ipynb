{
 "cells": [
  {
   "cell_type": "code",
   "execution_count": 4,
   "id": "f19b17c6",
   "metadata": {},
   "outputs": [
    {
     "name": "stdout",
     "output_type": "stream",
     "text": [
      "                時間     設備   現状    生産数\n",
      "0  2025/8/25 15:00  CHT14  稼働中  29380\n",
      "1  2025/8/25 16:00  CHT14  稼働中  29400\n",
      "2  2025/8/25 17:15  CHT14  稼働中  29800\n",
      "3  2025/8/25 17:15  RP-25  稼働中  29800\n"
     ]
    }
   ],
   "source": [
    "import pandas as pd\n",
    "\n",
    "# mssvに吐き出してるやつー\n",
    "main_csv_path = r\"\\\\126.0.3.173\\ms-sv\\三好製造課（管理者：井戸課長）\\DXでじとら\\冷間転造IOT\\main.csv\"\n",
    "\n",
    "df_main = pd.read_csv(main_csv_path)\n",
    "\n",
    "print(df_main)\n"
   ]
  },
  {
   "cell_type": "code",
   "execution_count": null,
   "id": "1390c78b",
   "metadata": {},
   "outputs": [],
   "source": []
  }
 ],
 "metadata": {
  "kernelspec": {
   "display_name": "venv (3.13.4)",
   "language": "python",
   "name": "python3"
  },
  "language_info": {
   "codemirror_mode": {
    "name": "ipython",
    "version": 3
   },
   "file_extension": ".py",
   "mimetype": "text/x-python",
   "name": "python",
   "nbconvert_exporter": "python",
   "pygments_lexer": "ipython3",
   "version": "3.13.4"
  }
 },
 "nbformat": 4,
 "nbformat_minor": 5
}
